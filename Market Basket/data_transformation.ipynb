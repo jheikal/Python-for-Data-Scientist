{
 "cells": [
  {
   "cell_type": "markdown",
   "metadata": {},
   "source": [
    "# Data Transformation"
   ]
  },
  {
   "cell_type": "markdown",
   "metadata": {},
   "source": [
    "<img src=\"transformation.png\">"
   ]
  },
  {
   "cell_type": "code",
   "execution_count": 1,
   "metadata": {},
   "outputs": [],
   "source": [
    "# import library\n",
    "import pandas as pd"
   ]
  },
  {
   "cell_type": "code",
   "execution_count": 3,
   "metadata": {},
   "outputs": [
    {
     "data": {
      "text/html": [
       "<div>\n",
       "<style scoped>\n",
       "    .dataframe tbody tr th:only-of-type {\n",
       "        vertical-align: middle;\n",
       "    }\n",
       "\n",
       "    .dataframe tbody tr th {\n",
       "        vertical-align: top;\n",
       "    }\n",
       "\n",
       "    .dataframe thead th {\n",
       "        text-align: right;\n",
       "    }\n",
       "</style>\n",
       "<table border=\"1\" class=\"dataframe\">\n",
       "  <thead>\n",
       "    <tr style=\"text-align: right;\">\n",
       "      <th></th>\n",
       "      <th>pelanggan</th>\n",
       "      <th>produk</th>\n",
       "      <th>transaksi</th>\n",
       "      <th>rp</th>\n",
       "    </tr>\n",
       "  </thead>\n",
       "  <tbody>\n",
       "    <tr>\n",
       "      <th>0</th>\n",
       "      <td>andi</td>\n",
       "      <td>debit</td>\n",
       "      <td>transfer</td>\n",
       "      <td>100000</td>\n",
       "    </tr>\n",
       "    <tr>\n",
       "      <th>1</th>\n",
       "      <td>andi</td>\n",
       "      <td>debit</td>\n",
       "      <td>setor</td>\n",
       "      <td>100000</td>\n",
       "    </tr>\n",
       "    <tr>\n",
       "      <th>2</th>\n",
       "      <td>andi</td>\n",
       "      <td>debit</td>\n",
       "      <td>transfer</td>\n",
       "      <td>200000</td>\n",
       "    </tr>\n",
       "    <tr>\n",
       "      <th>3</th>\n",
       "      <td>andi</td>\n",
       "      <td>kredit</td>\n",
       "      <td>gestun</td>\n",
       "      <td>100000</td>\n",
       "    </tr>\n",
       "    <tr>\n",
       "      <th>4</th>\n",
       "      <td>andi</td>\n",
       "      <td>kredit</td>\n",
       "      <td>payment</td>\n",
       "      <td>100000</td>\n",
       "    </tr>\n",
       "    <tr>\n",
       "      <th>5</th>\n",
       "      <td>budi</td>\n",
       "      <td>debit</td>\n",
       "      <td>setor</td>\n",
       "      <td>200000</td>\n",
       "    </tr>\n",
       "    <tr>\n",
       "      <th>6</th>\n",
       "      <td>budi</td>\n",
       "      <td>debit</td>\n",
       "      <td>transfer</td>\n",
       "      <td>100000</td>\n",
       "    </tr>\n",
       "    <tr>\n",
       "      <th>7</th>\n",
       "      <td>budi</td>\n",
       "      <td>kredit</td>\n",
       "      <td>payment</td>\n",
       "      <td>100000</td>\n",
       "    </tr>\n",
       "  </tbody>\n",
       "</table>\n",
       "</div>"
      ],
      "text/plain": [
       "  pelanggan  produk transaksi      rp\n",
       "0      andi   debit  transfer  100000\n",
       "1      andi   debit     setor  100000\n",
       "2      andi   debit  transfer  200000\n",
       "3      andi  kredit    gestun  100000\n",
       "4      andi  kredit   payment  100000\n",
       "5      budi   debit     setor  200000\n",
       "6      budi   debit  transfer  100000\n",
       "7      budi  kredit   payment  100000"
      ]
     },
     "execution_count": 3,
     "metadata": {},
     "output_type": "execute_result"
    }
   ],
   "source": [
    "# load data\n",
    "sales = [\n",
    "    ('pelanggan', ['andi', 'andi', 'andi', 'andi', 'andi', 'budi', 'budi', 'budi']),\n",
    "    ('produk',  ['debit', 'debit', 'debit', 'kredit', 'kredit', 'debit', 'debit', 'kredit']),\n",
    "    ('transaksi',  ['transfer', 'setor', 'transfer', 'gestun', 'payment', 'setor', 'transfer', 'payment']),\n",
    "    ('rp', [100000, 100000, 200000, 100000, 100000, 200000, 100000, 100000])\n",
    "]\n",
    "df = pd.DataFrame.from_dict(dict(sales))\n",
    "df"
   ]
  },
  {
   "cell_type": "code",
   "execution_count": null,
   "metadata": {},
   "outputs": [],
   "source": [
    "# # load data\n",
    "# df = pd.read_excel('data.xlsx')\n",
    "# df"
   ]
  },
  {
   "cell_type": "code",
   "execution_count": 4,
   "metadata": {},
   "outputs": [
    {
     "data": {
      "text/html": [
       "<div>\n",
       "<style scoped>\n",
       "    .dataframe tbody tr th:only-of-type {\n",
       "        vertical-align: middle;\n",
       "    }\n",
       "\n",
       "    .dataframe tbody tr th {\n",
       "        vertical-align: top;\n",
       "    }\n",
       "\n",
       "    .dataframe thead th {\n",
       "        text-align: right;\n",
       "    }\n",
       "</style>\n",
       "<table border=\"1\" class=\"dataframe\">\n",
       "  <thead>\n",
       "    <tr style=\"text-align: right;\">\n",
       "      <th></th>\n",
       "      <th>pelanggan</th>\n",
       "      <th>produk</th>\n",
       "      <th>transaksi</th>\n",
       "      <th>rp</th>\n",
       "      <th>produk_transaksi</th>\n",
       "    </tr>\n",
       "  </thead>\n",
       "  <tbody>\n",
       "    <tr>\n",
       "      <th>0</th>\n",
       "      <td>andi</td>\n",
       "      <td>debit</td>\n",
       "      <td>transfer</td>\n",
       "      <td>100000</td>\n",
       "      <td>debit_transfer</td>\n",
       "    </tr>\n",
       "    <tr>\n",
       "      <th>1</th>\n",
       "      <td>andi</td>\n",
       "      <td>debit</td>\n",
       "      <td>setor</td>\n",
       "      <td>100000</td>\n",
       "      <td>debit_setor</td>\n",
       "    </tr>\n",
       "    <tr>\n",
       "      <th>2</th>\n",
       "      <td>andi</td>\n",
       "      <td>debit</td>\n",
       "      <td>transfer</td>\n",
       "      <td>200000</td>\n",
       "      <td>debit_transfer</td>\n",
       "    </tr>\n",
       "    <tr>\n",
       "      <th>3</th>\n",
       "      <td>andi</td>\n",
       "      <td>kredit</td>\n",
       "      <td>gestun</td>\n",
       "      <td>100000</td>\n",
       "      <td>kredit_gestun</td>\n",
       "    </tr>\n",
       "    <tr>\n",
       "      <th>4</th>\n",
       "      <td>andi</td>\n",
       "      <td>kredit</td>\n",
       "      <td>payment</td>\n",
       "      <td>100000</td>\n",
       "      <td>kredit_payment</td>\n",
       "    </tr>\n",
       "    <tr>\n",
       "      <th>5</th>\n",
       "      <td>budi</td>\n",
       "      <td>debit</td>\n",
       "      <td>setor</td>\n",
       "      <td>200000</td>\n",
       "      <td>debit_setor</td>\n",
       "    </tr>\n",
       "    <tr>\n",
       "      <th>6</th>\n",
       "      <td>budi</td>\n",
       "      <td>debit</td>\n",
       "      <td>transfer</td>\n",
       "      <td>100000</td>\n",
       "      <td>debit_transfer</td>\n",
       "    </tr>\n",
       "    <tr>\n",
       "      <th>7</th>\n",
       "      <td>budi</td>\n",
       "      <td>kredit</td>\n",
       "      <td>payment</td>\n",
       "      <td>100000</td>\n",
       "      <td>kredit_payment</td>\n",
       "    </tr>\n",
       "  </tbody>\n",
       "</table>\n",
       "</div>"
      ],
      "text/plain": [
       "  pelanggan  produk transaksi      rp produk_transaksi\n",
       "0      andi   debit  transfer  100000   debit_transfer\n",
       "1      andi   debit     setor  100000      debit_setor\n",
       "2      andi   debit  transfer  200000   debit_transfer\n",
       "3      andi  kredit    gestun  100000    kredit_gestun\n",
       "4      andi  kredit   payment  100000   kredit_payment\n",
       "5      budi   debit     setor  200000      debit_setor\n",
       "6      budi   debit  transfer  100000   debit_transfer\n",
       "7      budi  kredit   payment  100000   kredit_payment"
      ]
     },
     "execution_count": 4,
     "metadata": {},
     "output_type": "execute_result"
    }
   ],
   "source": [
    "# buat kolom baru produk_transaksi\n",
    "df['produk_transaksi'] = df['produk'] + '_' + df['transaksi']\n",
    "df"
   ]
  },
  {
   "cell_type": "code",
   "execution_count": 5,
   "metadata": {},
   "outputs": [
    {
     "data": {
      "text/html": [
       "<div>\n",
       "<style scoped>\n",
       "    .dataframe tbody tr th:only-of-type {\n",
       "        vertical-align: middle;\n",
       "    }\n",
       "\n",
       "    .dataframe tbody tr th {\n",
       "        vertical-align: top;\n",
       "    }\n",
       "\n",
       "    .dataframe thead tr th {\n",
       "        text-align: left;\n",
       "    }\n",
       "\n",
       "    .dataframe thead tr:last-of-type th {\n",
       "        text-align: right;\n",
       "    }\n",
       "</style>\n",
       "<table border=\"1\" class=\"dataframe\">\n",
       "  <thead>\n",
       "    <tr>\n",
       "      <th></th>\n",
       "      <th colspan=\"4\" halign=\"left\">produk_transaksi</th>\n",
       "      <th colspan=\"4\" halign=\"left\">rp</th>\n",
       "    </tr>\n",
       "    <tr>\n",
       "      <th>produk_transaksi</th>\n",
       "      <th>debit_setor</th>\n",
       "      <th>debit_transfer</th>\n",
       "      <th>kredit_gestun</th>\n",
       "      <th>kredit_payment</th>\n",
       "      <th>debit_setor</th>\n",
       "      <th>debit_transfer</th>\n",
       "      <th>kredit_gestun</th>\n",
       "      <th>kredit_payment</th>\n",
       "    </tr>\n",
       "    <tr>\n",
       "      <th>pelanggan</th>\n",
       "      <th></th>\n",
       "      <th></th>\n",
       "      <th></th>\n",
       "      <th></th>\n",
       "      <th></th>\n",
       "      <th></th>\n",
       "      <th></th>\n",
       "      <th></th>\n",
       "    </tr>\n",
       "  </thead>\n",
       "  <tbody>\n",
       "    <tr>\n",
       "      <th>andi</th>\n",
       "      <td>1.0</td>\n",
       "      <td>2.0</td>\n",
       "      <td>1.0</td>\n",
       "      <td>1.0</td>\n",
       "      <td>100000.0</td>\n",
       "      <td>300000.0</td>\n",
       "      <td>100000.0</td>\n",
       "      <td>100000.0</td>\n",
       "    </tr>\n",
       "    <tr>\n",
       "      <th>budi</th>\n",
       "      <td>1.0</td>\n",
       "      <td>1.0</td>\n",
       "      <td>NaN</td>\n",
       "      <td>1.0</td>\n",
       "      <td>200000.0</td>\n",
       "      <td>100000.0</td>\n",
       "      <td>NaN</td>\n",
       "      <td>100000.0</td>\n",
       "    </tr>\n",
       "  </tbody>\n",
       "</table>\n",
       "</div>"
      ],
      "text/plain": [
       "                 produk_transaksi                                              \\\n",
       "produk_transaksi      debit_setor debit_transfer kredit_gestun kredit_payment   \n",
       "pelanggan                                                                       \n",
       "andi                          1.0            2.0           1.0            1.0   \n",
       "budi                          1.0            1.0           NaN            1.0   \n",
       "\n",
       "                          rp                                              \n",
       "produk_transaksi debit_setor debit_transfer kredit_gestun kredit_payment  \n",
       "pelanggan                                                                 \n",
       "andi                100000.0       300000.0      100000.0       100000.0  \n",
       "budi                200000.0       100000.0           NaN       100000.0  "
      ]
     },
     "execution_count": 5,
     "metadata": {},
     "output_type": "execute_result"
    }
   ],
   "source": [
    "# transformasi struktur data\n",
    "data = (df\n",
    "        .drop(['produk', 'transaksi'], axis=1) # hapus kolom produk dan transaksi\n",
    "        .groupby(['pelanggan','produk_transaksi']) # kelompokkan berdasarkan pelanggan (baris) dan produk_transaksi (kolom)\n",
    "        .agg({'produk_transaksi': 'count', 'rp': 'sum'}) # buat kolom untuk mengelompokkan produk_transaksi dan jumlah rp\n",
    "        .unstack() # mentransformasi baris menjadi kolom\n",
    "       )\n",
    "data"
   ]
  },
  {
   "cell_type": "code",
   "execution_count": 7,
   "metadata": {},
   "outputs": [
    {
     "data": {
      "text/plain": [
       "(2, 8)"
      ]
     },
     "execution_count": 7,
     "metadata": {},
     "output_type": "execute_result"
    }
   ],
   "source": [
    "# melihat ukuran dimensi data\n",
    "data.shape"
   ]
  },
  {
   "cell_type": "code",
   "execution_count": 8,
   "metadata": {},
   "outputs": [
    {
     "data": {
      "text/plain": [
       "MultiIndex(levels=[['produk_transaksi', 'rp'], ['debit_setor', 'debit_transfer', 'kredit_gestun', 'kredit_payment']],\n",
       "           labels=[[0, 0, 0, 0, 1, 1, 1, 1], [0, 1, 2, 3, 0, 1, 2, 3]],\n",
       "           names=[None, 'produk_transaksi'])"
      ]
     },
     "execution_count": 8,
     "metadata": {},
     "output_type": "execute_result"
    }
   ],
   "source": [
    "# melihat kolom-kolom yang dimiliki oleh data\n",
    "data.columns"
   ]
  },
  {
   "cell_type": "code",
   "execution_count": 34,
   "metadata": {},
   "outputs": [
    {
     "data": {
      "text/html": [
       "<div>\n",
       "<style scoped>\n",
       "    .dataframe tbody tr th:only-of-type {\n",
       "        vertical-align: middle;\n",
       "    }\n",
       "\n",
       "    .dataframe tbody tr th {\n",
       "        vertical-align: top;\n",
       "    }\n",
       "\n",
       "    .dataframe thead th {\n",
       "        text-align: right;\n",
       "    }\n",
       "</style>\n",
       "<table border=\"1\" class=\"dataframe\">\n",
       "  <thead>\n",
       "    <tr style=\"text-align: right;\">\n",
       "      <th>produk_transaksi</th>\n",
       "      <th>debit_setor</th>\n",
       "      <th>debit_transfer</th>\n",
       "      <th>kredit_gestun</th>\n",
       "      <th>kredit_payment</th>\n",
       "      <th>debit_setor</th>\n",
       "      <th>debit_transfer</th>\n",
       "      <th>kredit_gestun</th>\n",
       "      <th>kredit_payment</th>\n",
       "    </tr>\n",
       "    <tr>\n",
       "      <th>pelanggan</th>\n",
       "      <th></th>\n",
       "      <th></th>\n",
       "      <th></th>\n",
       "      <th></th>\n",
       "      <th></th>\n",
       "      <th></th>\n",
       "      <th></th>\n",
       "      <th></th>\n",
       "    </tr>\n",
       "  </thead>\n",
       "  <tbody>\n",
       "    <tr>\n",
       "      <th>andi</th>\n",
       "      <td>1.0</td>\n",
       "      <td>2.0</td>\n",
       "      <td>1.0</td>\n",
       "      <td>1.0</td>\n",
       "      <td>150000.0</td>\n",
       "      <td>300000.0</td>\n",
       "      <td>100000.0</td>\n",
       "      <td>150000.0</td>\n",
       "    </tr>\n",
       "    <tr>\n",
       "      <th>budi</th>\n",
       "      <td>1.0</td>\n",
       "      <td>1.0</td>\n",
       "      <td>NaN</td>\n",
       "      <td>1.0</td>\n",
       "      <td>200000.0</td>\n",
       "      <td>100000.0</td>\n",
       "      <td>NaN</td>\n",
       "      <td>150000.0</td>\n",
       "    </tr>\n",
       "  </tbody>\n",
       "</table>\n",
       "</div>"
      ],
      "text/plain": [
       "produk_transaksi  debit_setor  debit_transfer  kredit_gestun  kredit_payment  \\\n",
       "pelanggan                                                                      \n",
       "andi                      1.0             2.0            1.0             1.0   \n",
       "budi                      1.0             1.0            NaN             1.0   \n",
       "\n",
       "produk_transaksi  debit_setor  debit_transfer  kredit_gestun  kredit_payment  \n",
       "pelanggan                                                                     \n",
       "andi                 150000.0        300000.0       100000.0        150000.0  \n",
       "budi                 200000.0        100000.0            NaN        150000.0  "
      ]
     },
     "execution_count": 34,
     "metadata": {},
     "output_type": "execute_result"
    }
   ],
   "source": [
    "# menghapus tulisan label kolom produk_transaksi dan rp\n",
    "data.columns = data.columns.droplevel(0)\n",
    "data"
   ]
  },
  {
   "cell_type": "code",
   "execution_count": 35,
   "metadata": {},
   "outputs": [
    {
     "data": {
      "text/plain": [
       "(2, 8)"
      ]
     },
     "execution_count": 35,
     "metadata": {},
     "output_type": "execute_result"
    }
   ],
   "source": [
    "data.shape"
   ]
  },
  {
   "cell_type": "code",
   "execution_count": 36,
   "metadata": {},
   "outputs": [
    {
     "data": {
      "text/plain": [
       "Index(['debit_setor', 'debit_transfer', 'kredit_gestun', 'kredit_payment',\n",
       "       'debit_setor', 'debit_transfer', 'kredit_gestun', 'kredit_payment'],\n",
       "      dtype='object', name='produk_transaksi')"
      ]
     },
     "execution_count": 36,
     "metadata": {},
     "output_type": "execute_result"
    }
   ],
   "source": [
    "data.columns"
   ]
  },
  {
   "cell_type": "code",
   "execution_count": 37,
   "metadata": {},
   "outputs": [
    {
     "data": {
      "text/html": [
       "<div>\n",
       "<style scoped>\n",
       "    .dataframe tbody tr th:only-of-type {\n",
       "        vertical-align: middle;\n",
       "    }\n",
       "\n",
       "    .dataframe tbody tr th {\n",
       "        vertical-align: top;\n",
       "    }\n",
       "\n",
       "    .dataframe thead th {\n",
       "        text-align: right;\n",
       "    }\n",
       "</style>\n",
       "<table border=\"1\" class=\"dataframe\">\n",
       "  <thead>\n",
       "    <tr style=\"text-align: right;\">\n",
       "      <th></th>\n",
       "      <th>debit_setor</th>\n",
       "      <th>debit_transfer</th>\n",
       "      <th>kredit_gestun</th>\n",
       "      <th>kredit_payment</th>\n",
       "      <th>debit_setor</th>\n",
       "      <th>debit_transfer</th>\n",
       "      <th>kredit_gestun</th>\n",
       "      <th>kredit_payment</th>\n",
       "    </tr>\n",
       "    <tr>\n",
       "      <th>pelanggan</th>\n",
       "      <th></th>\n",
       "      <th></th>\n",
       "      <th></th>\n",
       "      <th></th>\n",
       "      <th></th>\n",
       "      <th></th>\n",
       "      <th></th>\n",
       "      <th></th>\n",
       "    </tr>\n",
       "  </thead>\n",
       "  <tbody>\n",
       "    <tr>\n",
       "      <th>andi</th>\n",
       "      <td>1.0</td>\n",
       "      <td>2.0</td>\n",
       "      <td>1.0</td>\n",
       "      <td>1.0</td>\n",
       "      <td>150000.0</td>\n",
       "      <td>300000.0</td>\n",
       "      <td>100000.0</td>\n",
       "      <td>150000.0</td>\n",
       "    </tr>\n",
       "    <tr>\n",
       "      <th>budi</th>\n",
       "      <td>1.0</td>\n",
       "      <td>1.0</td>\n",
       "      <td>NaN</td>\n",
       "      <td>1.0</td>\n",
       "      <td>200000.0</td>\n",
       "      <td>100000.0</td>\n",
       "      <td>NaN</td>\n",
       "      <td>150000.0</td>\n",
       "    </tr>\n",
       "  </tbody>\n",
       "</table>\n",
       "</div>"
      ],
      "text/plain": [
       "           debit_setor  debit_transfer  kredit_gestun  kredit_payment  \\\n",
       "pelanggan                                                               \n",
       "andi               1.0             2.0            1.0             1.0   \n",
       "budi               1.0             1.0            NaN             1.0   \n",
       "\n",
       "           debit_setor  debit_transfer  kredit_gestun  kredit_payment  \n",
       "pelanggan                                                              \n",
       "andi          150000.0        300000.0       100000.0        150000.0  \n",
       "budi          200000.0        100000.0            NaN        150000.0  "
      ]
     },
     "execution_count": 37,
     "metadata": {},
     "output_type": "execute_result"
    }
   ],
   "source": [
    "# menghapus tulisan label baris produk_transaksi\n",
    "data.columns.name = ''\n",
    "data"
   ]
  },
  {
   "cell_type": "code",
   "execution_count": 38,
   "metadata": {},
   "outputs": [
    {
     "data": {
      "text/html": [
       "<div>\n",
       "<style scoped>\n",
       "    .dataframe tbody tr th:only-of-type {\n",
       "        vertical-align: middle;\n",
       "    }\n",
       "\n",
       "    .dataframe tbody tr th {\n",
       "        vertical-align: top;\n",
       "    }\n",
       "\n",
       "    .dataframe thead th {\n",
       "        text-align: right;\n",
       "    }\n",
       "</style>\n",
       "<table border=\"1\" class=\"dataframe\">\n",
       "  <thead>\n",
       "    <tr style=\"text-align: right;\">\n",
       "      <th></th>\n",
       "      <th>debit_setor</th>\n",
       "      <th>debit_transfer</th>\n",
       "      <th>kredit_gestun</th>\n",
       "      <th>kredit_payment</th>\n",
       "      <th>debit_setor</th>\n",
       "      <th>debit_transfer</th>\n",
       "      <th>kredit_gestun</th>\n",
       "      <th>kredit_payment</th>\n",
       "    </tr>\n",
       "    <tr>\n",
       "      <th>pelanggan</th>\n",
       "      <th></th>\n",
       "      <th></th>\n",
       "      <th></th>\n",
       "      <th></th>\n",
       "      <th></th>\n",
       "      <th></th>\n",
       "      <th></th>\n",
       "      <th></th>\n",
       "    </tr>\n",
       "  </thead>\n",
       "  <tbody>\n",
       "    <tr>\n",
       "      <th>andi</th>\n",
       "      <td>1</td>\n",
       "      <td>2</td>\n",
       "      <td>1</td>\n",
       "      <td>1</td>\n",
       "      <td>150000</td>\n",
       "      <td>300000</td>\n",
       "      <td>100000</td>\n",
       "      <td>150000</td>\n",
       "    </tr>\n",
       "    <tr>\n",
       "      <th>budi</th>\n",
       "      <td>1</td>\n",
       "      <td>1</td>\n",
       "      <td>0</td>\n",
       "      <td>1</td>\n",
       "      <td>200000</td>\n",
       "      <td>100000</td>\n",
       "      <td>0</td>\n",
       "      <td>150000</td>\n",
       "    </tr>\n",
       "  </tbody>\n",
       "</table>\n",
       "</div>"
      ],
      "text/plain": [
       "           debit_setor  debit_transfer  kredit_gestun  kredit_payment  \\\n",
       "pelanggan                                                               \n",
       "andi                 1               2              1               1   \n",
       "budi                 1               1              0               1   \n",
       "\n",
       "           debit_setor  debit_transfer  kredit_gestun  kredit_payment  \n",
       "pelanggan                                                              \n",
       "andi            150000          300000         100000          150000  \n",
       "budi            200000          100000              0          150000  "
      ]
     },
     "execution_count": 38,
     "metadata": {},
     "output_type": "execute_result"
    }
   ],
   "source": [
    "# mengisi nilai Nan dengan 0 dan mengubah tipe data menjadi integer\n",
    "data = (data.fillna(0).applymap(int))\n",
    "data"
   ]
  },
  {
   "cell_type": "code",
   "execution_count": 39,
   "metadata": {},
   "outputs": [
    {
     "data": {
      "text/plain": [
       "(2, 8)"
      ]
     },
     "execution_count": 39,
     "metadata": {},
     "output_type": "execute_result"
    }
   ],
   "source": [
    "data.shape"
   ]
  },
  {
   "cell_type": "code",
   "execution_count": 40,
   "metadata": {},
   "outputs": [
    {
     "data": {
      "text/plain": [
       "Index(['debit_setor', 'debit_transfer', 'kredit_gestun', 'kredit_payment',\n",
       "       'debit_setor', 'debit_transfer', 'kredit_gestun', 'kredit_payment'],\n",
       "      dtype='object', name='')"
      ]
     },
     "execution_count": 40,
     "metadata": {},
     "output_type": "execute_result"
    }
   ],
   "source": [
    "data.columns"
   ]
  },
  {
   "cell_type": "code",
   "execution_count": null,
   "metadata": {},
   "outputs": [],
   "source": []
  }
 ],
 "metadata": {
  "kernelspec": {
   "display_name": "Python 3",
   "language": "python",
   "name": "python3"
  },
  "language_info": {
   "codemirror_mode": {
    "name": "ipython",
    "version": 3
   },
   "file_extension": ".py",
   "mimetype": "text/x-python",
   "name": "python",
   "nbconvert_exporter": "python",
   "pygments_lexer": "ipython3",
   "version": "3.7.1"
  }
 },
 "nbformat": 4,
 "nbformat_minor": 2
}
