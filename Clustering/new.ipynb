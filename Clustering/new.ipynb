{
 "cells": [
  {
   "cell_type": "markdown",
   "metadata": {},
   "source": [
    "# Clustering Training Data"
   ]
  },
  {
   "cell_type": "markdown",
   "metadata": {},
   "source": [
    "### Prepare csv file"
   ]
  },
  {
   "cell_type": "code",
   "execution_count": null,
   "metadata": {},
   "outputs": [],
   "source": [
    "import pandas as pd"
   ]
  },
  {
   "cell_type": "code",
   "execution_count": 3,
   "metadata": {},
   "outputs": [],
   "source": [
    "df = pd.read_excel('Persona.xlsx', sheet_name='Clustering')"
   ]
  },
  {
   "cell_type": "code",
   "execution_count": 4,
   "metadata": {},
   "outputs": [
    {
     "data": {
      "text/html": [
       "<div>\n",
       "<style scoped>\n",
       "    .dataframe tbody tr th:only-of-type {\n",
       "        vertical-align: middle;\n",
       "    }\n",
       "\n",
       "    .dataframe tbody tr th {\n",
       "        vertical-align: top;\n",
       "    }\n",
       "\n",
       "    .dataframe thead th {\n",
       "        text-align: right;\n",
       "    }\n",
       "</style>\n",
       "<table border=\"1\" class=\"dataframe\">\n",
       "  <thead>\n",
       "    <tr style=\"text-align: right;\">\n",
       "      <th></th>\n",
       "      <th>CardNo</th>\n",
       "      <th>Food&amp;Grocery</th>\n",
       "      <th>DepartmentStores</th>\n",
       "      <th>Travelservice</th>\n",
       "      <th>Transportation</th>\n",
       "      <th>Food&amp;Grocery_F</th>\n",
       "      <th>DepartmentStores_F</th>\n",
       "      <th>Travelservice_F</th>\n",
       "      <th>Transportation_F</th>\n",
       "    </tr>\n",
       "  </thead>\n",
       "  <tbody>\n",
       "    <tr>\n",
       "      <th>0</th>\n",
       "      <td>36</td>\n",
       "      <td>683018</td>\n",
       "      <td>77278</td>\n",
       "      <td>430122</td>\n",
       "      <td>461592</td>\n",
       "      <td>31</td>\n",
       "      <td>42</td>\n",
       "      <td>49</td>\n",
       "      <td>23</td>\n",
       "    </tr>\n",
       "    <tr>\n",
       "      <th>1</th>\n",
       "      <td>66</td>\n",
       "      <td>442893</td>\n",
       "      <td>107877</td>\n",
       "      <td>155591</td>\n",
       "      <td>462895</td>\n",
       "      <td>29</td>\n",
       "      <td>28</td>\n",
       "      <td>50</td>\n",
       "      <td>34</td>\n",
       "    </tr>\n",
       "    <tr>\n",
       "      <th>2</th>\n",
       "      <td>13</td>\n",
       "      <td>498225</td>\n",
       "      <td>305818</td>\n",
       "      <td>258809</td>\n",
       "      <td>158097</td>\n",
       "      <td>39</td>\n",
       "      <td>3</td>\n",
       "      <td>40</td>\n",
       "      <td>4</td>\n",
       "    </tr>\n",
       "    <tr>\n",
       "      <th>3</th>\n",
       "      <td>13</td>\n",
       "      <td>904833</td>\n",
       "      <td>355949</td>\n",
       "      <td>153383</td>\n",
       "      <td>69084</td>\n",
       "      <td>11</td>\n",
       "      <td>14</td>\n",
       "      <td>7</td>\n",
       "      <td>40</td>\n",
       "    </tr>\n",
       "    <tr>\n",
       "      <th>4</th>\n",
       "      <td>29</td>\n",
       "      <td>277480</td>\n",
       "      <td>54576</td>\n",
       "      <td>319086</td>\n",
       "      <td>14343</td>\n",
       "      <td>16</td>\n",
       "      <td>44</td>\n",
       "      <td>36</td>\n",
       "      <td>13</td>\n",
       "    </tr>\n",
       "  </tbody>\n",
       "</table>\n",
       "</div>"
      ],
      "text/plain": [
       "   CardNo  Food&Grocery  DepartmentStores  Travelservice  Transportation  \\\n",
       "0      36        683018             77278         430122          461592   \n",
       "1      66        442893            107877         155591          462895   \n",
       "2      13        498225            305818         258809          158097   \n",
       "3      13        904833            355949         153383           69084   \n",
       "4      29        277480             54576         319086           14343   \n",
       "\n",
       "   Food&Grocery_F  DepartmentStores_F  Travelservice_F  Transportation_F  \n",
       "0              31                  42               49                23  \n",
       "1              29                  28               50                34  \n",
       "2              39                   3               40                 4  \n",
       "3              11                  14                7                40  \n",
       "4              16                  44               36                13  "
      ]
     },
     "execution_count": 4,
     "metadata": {},
     "output_type": "execute_result"
    }
   ],
   "source": [
    "df.head()"
   ]
  },
  {
   "cell_type": "code",
   "execution_count": 5,
   "metadata": {},
   "outputs": [
    {
     "data": {
      "text/plain": [
       "(999, 9)"
      ]
     },
     "execution_count": 5,
     "metadata": {},
     "output_type": "execute_result"
    }
   ],
   "source": [
    "df.shape"
   ]
  },
  {
   "cell_type": "code",
   "execution_count": 7,
   "metadata": {},
   "outputs": [],
   "source": [
    "df.to_csv('persona_clustering.csv', index=False)"
   ]
  },
  {
   "cell_type": "code",
   "execution_count": null,
   "metadata": {},
   "outputs": [],
   "source": []
  },
  {
   "cell_type": "markdown",
   "metadata": {},
   "source": [
    "### read data from csv"
   ]
  },
  {
   "cell_type": "code",
   "execution_count": 42,
   "metadata": {},
   "outputs": [],
   "source": [
    "import pandas as pd\n",
    "import numpy as np\n",
    "import sys\n",
    "np.set_printoptions(threshold=sys.maxsize)\n",
    "from scipy import stats\n",
    "from sklearn.preprocessing import MinMaxScaler\n",
    "from sklearn.cluster import KMeans\n",
    "import matplotlib.pyplot as plt\n",
    "import seaborn as sns\n",
    "from sklearn.decomposition import PCA\n",
    "from sklearn.externals import joblib"
   ]
  },
  {
   "cell_type": "code",
   "execution_count": 3,
   "metadata": {},
   "outputs": [],
   "source": [
    "df = pd.read_csv('persona_clustering.csv', nrows=100)"
   ]
  },
  {
   "cell_type": "code",
   "execution_count": 4,
   "metadata": {},
   "outputs": [
    {
     "data": {
      "text/plain": [
       "(100, 9)"
      ]
     },
     "execution_count": 4,
     "metadata": {},
     "output_type": "execute_result"
    }
   ],
   "source": [
    "df.shape"
   ]
  },
  {
   "cell_type": "code",
   "execution_count": 5,
   "metadata": {},
   "outputs": [
    {
     "data": {
      "text/html": [
       "<div>\n",
       "<style scoped>\n",
       "    .dataframe tbody tr th:only-of-type {\n",
       "        vertical-align: middle;\n",
       "    }\n",
       "\n",
       "    .dataframe tbody tr th {\n",
       "        vertical-align: top;\n",
       "    }\n",
       "\n",
       "    .dataframe thead th {\n",
       "        text-align: right;\n",
       "    }\n",
       "</style>\n",
       "<table border=\"1\" class=\"dataframe\">\n",
       "  <thead>\n",
       "    <tr style=\"text-align: right;\">\n",
       "      <th></th>\n",
       "      <th>CardNo</th>\n",
       "      <th>Food&amp;Grocery</th>\n",
       "      <th>DepartmentStores</th>\n",
       "      <th>Travelservice</th>\n",
       "      <th>Transportation</th>\n",
       "      <th>Food&amp;Grocery_F</th>\n",
       "      <th>DepartmentStores_F</th>\n",
       "      <th>Travelservice_F</th>\n",
       "      <th>Transportation_F</th>\n",
       "    </tr>\n",
       "  </thead>\n",
       "  <tbody>\n",
       "    <tr>\n",
       "      <th>0</th>\n",
       "      <td>36</td>\n",
       "      <td>683018</td>\n",
       "      <td>77278</td>\n",
       "      <td>430122</td>\n",
       "      <td>461592</td>\n",
       "      <td>31</td>\n",
       "      <td>42</td>\n",
       "      <td>49</td>\n",
       "      <td>23</td>\n",
       "    </tr>\n",
       "    <tr>\n",
       "      <th>1</th>\n",
       "      <td>66</td>\n",
       "      <td>442893</td>\n",
       "      <td>107877</td>\n",
       "      <td>155591</td>\n",
       "      <td>462895</td>\n",
       "      <td>29</td>\n",
       "      <td>28</td>\n",
       "      <td>50</td>\n",
       "      <td>34</td>\n",
       "    </tr>\n",
       "    <tr>\n",
       "      <th>2</th>\n",
       "      <td>13</td>\n",
       "      <td>498225</td>\n",
       "      <td>305818</td>\n",
       "      <td>258809</td>\n",
       "      <td>158097</td>\n",
       "      <td>39</td>\n",
       "      <td>3</td>\n",
       "      <td>40</td>\n",
       "      <td>4</td>\n",
       "    </tr>\n",
       "    <tr>\n",
       "      <th>3</th>\n",
       "      <td>13</td>\n",
       "      <td>904833</td>\n",
       "      <td>355949</td>\n",
       "      <td>153383</td>\n",
       "      <td>69084</td>\n",
       "      <td>11</td>\n",
       "      <td>14</td>\n",
       "      <td>7</td>\n",
       "      <td>40</td>\n",
       "    </tr>\n",
       "    <tr>\n",
       "      <th>4</th>\n",
       "      <td>29</td>\n",
       "      <td>277480</td>\n",
       "      <td>54576</td>\n",
       "      <td>319086</td>\n",
       "      <td>14343</td>\n",
       "      <td>16</td>\n",
       "      <td>44</td>\n",
       "      <td>36</td>\n",
       "      <td>13</td>\n",
       "    </tr>\n",
       "  </tbody>\n",
       "</table>\n",
       "</div>"
      ],
      "text/plain": [
       "   CardNo  Food&Grocery  DepartmentStores  Travelservice  Transportation  \\\n",
       "0      36        683018             77278         430122          461592   \n",
       "1      66        442893            107877         155591          462895   \n",
       "2      13        498225            305818         258809          158097   \n",
       "3      13        904833            355949         153383           69084   \n",
       "4      29        277480             54576         319086           14343   \n",
       "\n",
       "   Food&Grocery_F  DepartmentStores_F  Travelservice_F  Transportation_F  \n",
       "0              31                  42               49                23  \n",
       "1              29                  28               50                34  \n",
       "2              39                   3               40                 4  \n",
       "3              11                  14                7                40  \n",
       "4              16                  44               36                13  "
      ]
     },
     "execution_count": 5,
     "metadata": {},
     "output_type": "execute_result"
    }
   ],
   "source": [
    "df.head()"
   ]
  },
  {
   "cell_type": "markdown",
   "metadata": {},
   "source": [
    "### check are there any null value"
   ]
  },
  {
   "cell_type": "code",
   "execution_count": 6,
   "metadata": {},
   "outputs": [
    {
     "name": "stdout",
     "output_type": "stream",
     "text": [
      "CardNo                0\n",
      "Food&Grocery          0\n",
      "DepartmentStores      0\n",
      "Travelservice         0\n",
      "Transportation        0\n",
      "Food&Grocery_F        0\n",
      "DepartmentStores_F    0\n",
      "Travelservice_F       0\n",
      "Transportation_F      0\n",
      "dtype: int64\n"
     ]
    }
   ],
   "source": [
    "print(df.isna().sum())"
   ]
  },
  {
   "cell_type": "markdown",
   "metadata": {},
   "source": [
    "### replace null value with 0"
   ]
  },
  {
   "cell_type": "code",
   "execution_count": 7,
   "metadata": {},
   "outputs": [],
   "source": [
    "df.fillna(0, inplace=True)"
   ]
  },
  {
   "cell_type": "markdown",
   "metadata": {},
   "source": [
    "### identify min max data"
   ]
  },
  {
   "cell_type": "code",
   "execution_count": 8,
   "metadata": {},
   "outputs": [
    {
     "data": {
      "text/html": [
       "<div>\n",
       "<style scoped>\n",
       "    .dataframe tbody tr th:only-of-type {\n",
       "        vertical-align: middle;\n",
       "    }\n",
       "\n",
       "    .dataframe tbody tr th {\n",
       "        vertical-align: top;\n",
       "    }\n",
       "\n",
       "    .dataframe thead th {\n",
       "        text-align: right;\n",
       "    }\n",
       "</style>\n",
       "<table border=\"1\" class=\"dataframe\">\n",
       "  <thead>\n",
       "    <tr style=\"text-align: right;\">\n",
       "      <th></th>\n",
       "      <th>CardNo</th>\n",
       "      <th>Food&amp;Grocery</th>\n",
       "      <th>DepartmentStores</th>\n",
       "      <th>Travelservice</th>\n",
       "      <th>Transportation</th>\n",
       "      <th>Food&amp;Grocery_F</th>\n",
       "      <th>DepartmentStores_F</th>\n",
       "      <th>Travelservice_F</th>\n",
       "      <th>Transportation_F</th>\n",
       "    </tr>\n",
       "  </thead>\n",
       "  <tbody>\n",
       "    <tr>\n",
       "      <th>count</th>\n",
       "      <td>100.000000</td>\n",
       "      <td>100.000000</td>\n",
       "      <td>100.000000</td>\n",
       "      <td>100.000000</td>\n",
       "      <td>100.000000</td>\n",
       "      <td>100.000000</td>\n",
       "      <td>100.000000</td>\n",
       "      <td>100.000000</td>\n",
       "      <td>100.000000</td>\n",
       "    </tr>\n",
       "    <tr>\n",
       "      <th>mean</th>\n",
       "      <td>47.280000</td>\n",
       "      <td>524011.010000</td>\n",
       "      <td>240010.540000</td>\n",
       "      <td>267333.580000</td>\n",
       "      <td>249625.110000</td>\n",
       "      <td>30.070000</td>\n",
       "      <td>26.250000</td>\n",
       "      <td>25.310000</td>\n",
       "      <td>23.810000</td>\n",
       "    </tr>\n",
       "    <tr>\n",
       "      <th>std</th>\n",
       "      <td>26.948166</td>\n",
       "      <td>290432.299059</td>\n",
       "      <td>150577.062263</td>\n",
       "      <td>140338.921503</td>\n",
       "      <td>146156.354356</td>\n",
       "      <td>13.596089</td>\n",
       "      <td>14.826522</td>\n",
       "      <td>14.580806</td>\n",
       "      <td>14.732425</td>\n",
       "    </tr>\n",
       "    <tr>\n",
       "      <th>min</th>\n",
       "      <td>5.000000</td>\n",
       "      <td>13266.000000</td>\n",
       "      <td>2468.000000</td>\n",
       "      <td>1560.000000</td>\n",
       "      <td>3313.000000</td>\n",
       "      <td>0.000000</td>\n",
       "      <td>0.000000</td>\n",
       "      <td>0.000000</td>\n",
       "      <td>0.000000</td>\n",
       "    </tr>\n",
       "    <tr>\n",
       "      <th>25%</th>\n",
       "      <td>26.000000</td>\n",
       "      <td>311328.500000</td>\n",
       "      <td>112596.250000</td>\n",
       "      <td>149111.500000</td>\n",
       "      <td>116158.250000</td>\n",
       "      <td>20.750000</td>\n",
       "      <td>14.750000</td>\n",
       "      <td>13.750000</td>\n",
       "      <td>10.750000</td>\n",
       "    </tr>\n",
       "    <tr>\n",
       "      <th>50%</th>\n",
       "      <td>44.500000</td>\n",
       "      <td>546050.500000</td>\n",
       "      <td>224499.500000</td>\n",
       "      <td>287673.500000</td>\n",
       "      <td>248023.000000</td>\n",
       "      <td>32.000000</td>\n",
       "      <td>25.000000</td>\n",
       "      <td>24.500000</td>\n",
       "      <td>23.000000</td>\n",
       "    </tr>\n",
       "    <tr>\n",
       "      <th>75%</th>\n",
       "      <td>68.250000</td>\n",
       "      <td>739952.000000</td>\n",
       "      <td>371668.000000</td>\n",
       "      <td>390412.250000</td>\n",
       "      <td>378552.000000</td>\n",
       "      <td>41.000000</td>\n",
       "      <td>39.250000</td>\n",
       "      <td>37.000000</td>\n",
       "      <td>35.250000</td>\n",
       "    </tr>\n",
       "    <tr>\n",
       "      <th>max</th>\n",
       "      <td>99.000000</td>\n",
       "      <td>997014.000000</td>\n",
       "      <td>499242.000000</td>\n",
       "      <td>478791.000000</td>\n",
       "      <td>490300.000000</td>\n",
       "      <td>50.000000</td>\n",
       "      <td>50.000000</td>\n",
       "      <td>50.000000</td>\n",
       "      <td>50.000000</td>\n",
       "    </tr>\n",
       "  </tbody>\n",
       "</table>\n",
       "</div>"
      ],
      "text/plain": [
       "           CardNo   Food&Grocery  DepartmentStores  Travelservice  \\\n",
       "count  100.000000     100.000000        100.000000     100.000000   \n",
       "mean    47.280000  524011.010000     240010.540000  267333.580000   \n",
       "std     26.948166  290432.299059     150577.062263  140338.921503   \n",
       "min      5.000000   13266.000000       2468.000000    1560.000000   \n",
       "25%     26.000000  311328.500000     112596.250000  149111.500000   \n",
       "50%     44.500000  546050.500000     224499.500000  287673.500000   \n",
       "75%     68.250000  739952.000000     371668.000000  390412.250000   \n",
       "max     99.000000  997014.000000     499242.000000  478791.000000   \n",
       "\n",
       "       Transportation  Food&Grocery_F  DepartmentStores_F  Travelservice_F  \\\n",
       "count      100.000000      100.000000          100.000000       100.000000   \n",
       "mean    249625.110000       30.070000           26.250000        25.310000   \n",
       "std     146156.354356       13.596089           14.826522        14.580806   \n",
       "min       3313.000000        0.000000            0.000000         0.000000   \n",
       "25%     116158.250000       20.750000           14.750000        13.750000   \n",
       "50%     248023.000000       32.000000           25.000000        24.500000   \n",
       "75%     378552.000000       41.000000           39.250000        37.000000   \n",
       "max     490300.000000       50.000000           50.000000        50.000000   \n",
       "\n",
       "       Transportation_F  \n",
       "count        100.000000  \n",
       "mean          23.810000  \n",
       "std           14.732425  \n",
       "min            0.000000  \n",
       "25%           10.750000  \n",
       "50%           23.000000  \n",
       "75%           35.250000  \n",
       "max           50.000000  "
      ]
     },
     "execution_count": 8,
     "metadata": {},
     "output_type": "execute_result"
    }
   ],
   "source": [
    "df.describe()"
   ]
  },
  {
   "cell_type": "markdown",
   "metadata": {},
   "source": [
    "### remove outlier using z-score"
   ]
  },
  {
   "cell_type": "code",
   "execution_count": 9,
   "metadata": {},
   "outputs": [],
   "source": [
    "z = np.abs(stats.zscore(df))"
   ]
  },
  {
   "cell_type": "code",
   "execution_count": 10,
   "metadata": {},
   "outputs": [
    {
     "data": {
      "text/plain": [
       "array([[0.4206901 , 0.55024196, 1.08617046, 1.16581   , 1.4575811 ,\n",
       "        0.06874662, 1.06763714, 1.63292387, 0.05525775],\n",
       "       [0.69816655, 0.28070799, 0.88193515, 0.80024499, 1.46654112,\n",
       "        0.07909557, 0.11862635, 1.70185269, 0.69515612],\n",
       "       [1.2784802 , 0.08923221, 0.43923679, 0.06104882, 0.62938907,\n",
       "        0.6601154 , 1.57603577, 1.01256444, 1.35142716],\n",
       "       [1.2784802 , 1.31783036, 0.77383988, 0.81605759, 1.24148309,\n",
       "        1.40967532, 0.83038444, 1.26208679, 1.10447278],\n",
       "       [0.68175665, 0.85311788, 1.23769665, 0.37062519, 1.6179072 ,\n",
       "        1.04006984, 1.20321011, 0.73684914, 0.73745217]])"
      ]
     },
     "execution_count": 10,
     "metadata": {},
     "output_type": "execute_result"
    }
   ],
   "source": [
    "z[:5]"
   ]
  },
  {
   "cell_type": "code",
   "execution_count": 11,
   "metadata": {},
   "outputs": [],
   "source": [
    "z_upper_3 = np.where(z>3)"
   ]
  },
  {
   "cell_type": "code",
   "execution_count": 12,
   "metadata": {},
   "outputs": [],
   "source": [
    "row_drop = z_upper_3[0]"
   ]
  },
  {
   "cell_type": "code",
   "execution_count": 13,
   "metadata": {},
   "outputs": [
    {
     "data": {
      "text/plain": [
       "0"
      ]
     },
     "execution_count": 13,
     "metadata": {},
     "output_type": "execute_result"
    }
   ],
   "source": [
    "len(row_drop)"
   ]
  },
  {
   "cell_type": "code",
   "execution_count": 14,
   "metadata": {},
   "outputs": [
    {
     "data": {
      "text/plain": [
       "0"
      ]
     },
     "execution_count": 14,
     "metadata": {},
     "output_type": "execute_result"
    }
   ],
   "source": [
    "len(set(row_drop))"
   ]
  },
  {
   "cell_type": "code",
   "execution_count": 15,
   "metadata": {},
   "outputs": [],
   "source": [
    "df_no_outlier = df.drop(row_drop)"
   ]
  },
  {
   "cell_type": "code",
   "execution_count": 16,
   "metadata": {},
   "outputs": [
    {
     "data": {
      "text/plain": [
       "(100, 9)"
      ]
     },
     "execution_count": 16,
     "metadata": {},
     "output_type": "execute_result"
    }
   ],
   "source": [
    "df_no_outlier.shape"
   ]
  },
  {
   "cell_type": "code",
   "execution_count": 17,
   "metadata": {},
   "outputs": [
    {
     "data": {
      "text/html": [
       "<div>\n",
       "<style scoped>\n",
       "    .dataframe tbody tr th:only-of-type {\n",
       "        vertical-align: middle;\n",
       "    }\n",
       "\n",
       "    .dataframe tbody tr th {\n",
       "        vertical-align: top;\n",
       "    }\n",
       "\n",
       "    .dataframe thead th {\n",
       "        text-align: right;\n",
       "    }\n",
       "</style>\n",
       "<table border=\"1\" class=\"dataframe\">\n",
       "  <thead>\n",
       "    <tr style=\"text-align: right;\">\n",
       "      <th></th>\n",
       "      <th>CardNo</th>\n",
       "      <th>Food&amp;Grocery</th>\n",
       "      <th>DepartmentStores</th>\n",
       "      <th>Travelservice</th>\n",
       "      <th>Transportation</th>\n",
       "      <th>Food&amp;Grocery_F</th>\n",
       "      <th>DepartmentStores_F</th>\n",
       "      <th>Travelservice_F</th>\n",
       "      <th>Transportation_F</th>\n",
       "    </tr>\n",
       "  </thead>\n",
       "  <tbody>\n",
       "    <tr>\n",
       "      <th>0</th>\n",
       "      <td>36</td>\n",
       "      <td>683018</td>\n",
       "      <td>77278</td>\n",
       "      <td>430122</td>\n",
       "      <td>461592</td>\n",
       "      <td>31</td>\n",
       "      <td>42</td>\n",
       "      <td>49</td>\n",
       "      <td>23</td>\n",
       "    </tr>\n",
       "    <tr>\n",
       "      <th>1</th>\n",
       "      <td>66</td>\n",
       "      <td>442893</td>\n",
       "      <td>107877</td>\n",
       "      <td>155591</td>\n",
       "      <td>462895</td>\n",
       "      <td>29</td>\n",
       "      <td>28</td>\n",
       "      <td>50</td>\n",
       "      <td>34</td>\n",
       "    </tr>\n",
       "    <tr>\n",
       "      <th>2</th>\n",
       "      <td>13</td>\n",
       "      <td>498225</td>\n",
       "      <td>305818</td>\n",
       "      <td>258809</td>\n",
       "      <td>158097</td>\n",
       "      <td>39</td>\n",
       "      <td>3</td>\n",
       "      <td>40</td>\n",
       "      <td>4</td>\n",
       "    </tr>\n",
       "    <tr>\n",
       "      <th>3</th>\n",
       "      <td>13</td>\n",
       "      <td>904833</td>\n",
       "      <td>355949</td>\n",
       "      <td>153383</td>\n",
       "      <td>69084</td>\n",
       "      <td>11</td>\n",
       "      <td>14</td>\n",
       "      <td>7</td>\n",
       "      <td>40</td>\n",
       "    </tr>\n",
       "    <tr>\n",
       "      <th>4</th>\n",
       "      <td>29</td>\n",
       "      <td>277480</td>\n",
       "      <td>54576</td>\n",
       "      <td>319086</td>\n",
       "      <td>14343</td>\n",
       "      <td>16</td>\n",
       "      <td>44</td>\n",
       "      <td>36</td>\n",
       "      <td>13</td>\n",
       "    </tr>\n",
       "  </tbody>\n",
       "</table>\n",
       "</div>"
      ],
      "text/plain": [
       "   CardNo  Food&Grocery  DepartmentStores  Travelservice  Transportation  \\\n",
       "0      36        683018             77278         430122          461592   \n",
       "1      66        442893            107877         155591          462895   \n",
       "2      13        498225            305818         258809          158097   \n",
       "3      13        904833            355949         153383           69084   \n",
       "4      29        277480             54576         319086           14343   \n",
       "\n",
       "   Food&Grocery_F  DepartmentStores_F  Travelservice_F  Transportation_F  \n",
       "0              31                  42               49                23  \n",
       "1              29                  28               50                34  \n",
       "2              39                   3               40                 4  \n",
       "3              11                  14                7                40  \n",
       "4              16                  44               36                13  "
      ]
     },
     "execution_count": 17,
     "metadata": {},
     "output_type": "execute_result"
    }
   ],
   "source": [
    "df_no_outlier.head()"
   ]
  },
  {
   "cell_type": "markdown",
   "metadata": {},
   "source": [
    "### Normalize the data (0-1)"
   ]
  },
  {
   "cell_type": "code",
   "execution_count": 18,
   "metadata": {},
   "outputs": [
    {
     "name": "stderr",
     "output_type": "stream",
     "text": [
      "/anaconda3/lib/python3.7/site-packages/sklearn/preprocessing/data.py:334: DataConversionWarning: Data with input dtype int64 were all converted to float64 by MinMaxScaler.\n",
      "  return self.partial_fit(X, y)\n"
     ]
    }
   ],
   "source": [
    "df_scaled = MinMaxScaler().fit_transform(df_no_outlier)"
   ]
  },
  {
   "cell_type": "code",
   "execution_count": 19,
   "metadata": {},
   "outputs": [
    {
     "data": {
      "text/plain": [
       "array([[0.32978723, 0.68081663, 0.15059162, 0.89801794, 0.94104976,\n",
       "        0.62      , 0.84      , 0.98      , 0.46      ],\n",
       "       [0.64893617, 0.43672465, 0.21218703, 0.32275984, 0.9437254 ,\n",
       "        0.58      , 0.56      , 1.        , 0.68      ],\n",
       "       [0.08510638, 0.49297076, 0.61063985, 0.53904503, 0.31784011,\n",
       "        0.78      , 0.06      , 0.8       , 0.08      ],\n",
       "       [0.08510638, 0.90629612, 0.71155294, 0.31813315, 0.13505699,\n",
       "        0.22      , 0.28      , 0.14      , 0.8       ],\n",
       "       [0.25531915, 0.26857895, 0.10489277, 0.66535074, 0.02264948,\n",
       "        0.32      , 0.88      , 0.72      , 0.26      ]])"
      ]
     },
     "execution_count": 19,
     "metadata": {},
     "output_type": "execute_result"
    }
   ],
   "source": [
    "df_scaled[:5]"
   ]
  },
  {
   "cell_type": "markdown",
   "metadata": {},
   "source": [
    "### optimal k number of cluster"
   ]
  },
  {
   "cell_type": "code",
   "execution_count": 20,
   "metadata": {},
   "outputs": [],
   "source": [
    "sum_of_squared_distances = []\n",
    "K = range(1,30)\n",
    "for k in K:\n",
    "    km = KMeans(n_clusters=k)\n",
    "    km = km.fit(df_scaled)\n",
    "    sum_of_squared_distances.append(km.inertia_)"
   ]
  },
  {
   "cell_type": "code",
   "execution_count": 21,
   "metadata": {},
   "outputs": [
    {
     "data": {
      "image/png": "[encoded data removed]",
      "text/plain": [
       "<Figure size 432x288 with 1 Axes>"
      ]
     },
     "metadata": {
      "needs_background": "light"
     },
     "output_type": "display_data"
    }
   ],
   "source": [
    "plt.plot(K, sum_of_squared_distances, 'bx-')\n",
    "plt.xlabel('k')\n",
    "plt.ylabel('Sum_of_squared_distances')\n",
    "plt.title('Elbow Method For Optimal k')\n",
    "plt.show()"
   ]
  },
  {
   "cell_type": "markdown",
   "metadata": {},
   "source": [
    "### do kmeans, k=10"
   ]
  },
  {
   "cell_type": "code",
   "execution_count": 22,
   "metadata": {},
   "outputs": [],
   "source": [
    "kmeans = KMeans(n_clusters=10, precompute_distances=\"auto\", n_jobs=-1)\n",
    "clusters = kmeans.fit_predict(df_scaled)"
   ]
  },
  {
   "cell_type": "code",
   "execution_count": 23,
   "metadata": {},
   "outputs": [],
   "source": [
    "df_clusters = df_no_outlier"
   ]
  },
  {
   "cell_type": "code",
   "execution_count": 24,
   "metadata": {},
   "outputs": [],
   "source": [
    "df_clusters['clusters'] = clusters"
   ]
  },
  {
   "cell_type": "code",
   "execution_count": 25,
   "metadata": {},
   "outputs": [
    {
     "data": {
      "text/html": [
       "<div>\n",
       "<style scoped>\n",
       "    .dataframe tbody tr th:only-of-type {\n",
       "        vertical-align: middle;\n",
       "    }\n",
       "\n",
       "    .dataframe tbody tr th {\n",
       "        vertical-align: top;\n",
       "    }\n",
       "\n",
       "    .dataframe thead th {\n",
       "        text-align: right;\n",
       "    }\n",
       "</style>\n",
       "<table border=\"1\" class=\"dataframe\">\n",
       "  <thead>\n",
       "    <tr style=\"text-align: right;\">\n",
       "      <th></th>\n",
       "      <th>CardNo</th>\n",
       "      <th>Food&amp;Grocery</th>\n",
       "      <th>DepartmentStores</th>\n",
       "      <th>Travelservice</th>\n",
       "      <th>Transportation</th>\n",
       "      <th>Food&amp;Grocery_F</th>\n",
       "      <th>DepartmentStores_F</th>\n",
       "      <th>Travelservice_F</th>\n",
       "      <th>Transportation_F</th>\n",
       "      <th>clusters</th>\n",
       "    </tr>\n",
       "  </thead>\n",
       "  <tbody>\n",
       "    <tr>\n",
       "      <th>0</th>\n",
       "      <td>36</td>\n",
       "      <td>683018</td>\n",
       "      <td>77278</td>\n",
       "      <td>430122</td>\n",
       "      <td>461592</td>\n",
       "      <td>31</td>\n",
       "      <td>42</td>\n",
       "      <td>49</td>\n",
       "      <td>23</td>\n",
       "      <td>5</td>\n",
       "    </tr>\n",
       "    <tr>\n",
       "      <th>1</th>\n",
       "      <td>66</td>\n",
       "      <td>442893</td>\n",
       "      <td>107877</td>\n",
       "      <td>155591</td>\n",
       "      <td>462895</td>\n",
       "      <td>29</td>\n",
       "      <td>28</td>\n",
       "      <td>50</td>\n",
       "      <td>34</td>\n",
       "      <td>3</td>\n",
       "    </tr>\n",
       "    <tr>\n",
       "      <th>2</th>\n",
       "      <td>13</td>\n",
       "      <td>498225</td>\n",
       "      <td>305818</td>\n",
       "      <td>258809</td>\n",
       "      <td>158097</td>\n",
       "      <td>39</td>\n",
       "      <td>3</td>\n",
       "      <td>40</td>\n",
       "      <td>4</td>\n",
       "      <td>7</td>\n",
       "    </tr>\n",
       "    <tr>\n",
       "      <th>3</th>\n",
       "      <td>13</td>\n",
       "      <td>904833</td>\n",
       "      <td>355949</td>\n",
       "      <td>153383</td>\n",
       "      <td>69084</td>\n",
       "      <td>11</td>\n",
       "      <td>14</td>\n",
       "      <td>7</td>\n",
       "      <td>40</td>\n",
       "      <td>7</td>\n",
       "    </tr>\n",
       "    <tr>\n",
       "      <th>4</th>\n",
       "      <td>29</td>\n",
       "      <td>277480</td>\n",
       "      <td>54576</td>\n",
       "      <td>319086</td>\n",
       "      <td>14343</td>\n",
       "      <td>16</td>\n",
       "      <td>44</td>\n",
       "      <td>36</td>\n",
       "      <td>13</td>\n",
       "      <td>6</td>\n",
       "    </tr>\n",
       "  </tbody>\n",
       "</table>\n",
       "</div>"
      ],
      "text/plain": [
       "   CardNo  Food&Grocery  DepartmentStores  Travelservice  Transportation  \\\n",
       "0      36        683018             77278         430122          461592   \n",
       "1      66        442893            107877         155591          462895   \n",
       "2      13        498225            305818         258809          158097   \n",
       "3      13        904833            355949         153383           69084   \n",
       "4      29        277480             54576         319086           14343   \n",
       "\n",
       "   Food&Grocery_F  DepartmentStores_F  Travelservice_F  Transportation_F  \\\n",
       "0              31                  42               49                23   \n",
       "1              29                  28               50                34   \n",
       "2              39                   3               40                 4   \n",
       "3              11                  14                7                40   \n",
       "4              16                  44               36                13   \n",
       "\n",
       "   clusters  \n",
       "0         5  \n",
       "1         3  \n",
       "2         7  \n",
       "3         7  \n",
       "4         6  "
      ]
     },
     "execution_count": 25,
     "metadata": {},
     "output_type": "execute_result"
    }
   ],
   "source": [
    "df_clusters.head()"
   ]
  },
  {
   "cell_type": "markdown",
   "metadata": {},
   "source": [
    "### population for each centroid"
   ]
  },
  {
   "cell_type": "code",
   "execution_count": 26,
   "metadata": {},
   "outputs": [
    {
     "name": "stdout",
     "output_type": "stream",
     "text": [
      "Frequency of unique values of the said array:\n",
      "[[ 0  1  2  3  4  5  6  7  8  9]\n",
      " [ 7 10 13 10  6 14 14 10 10  6]]\n"
     ]
    }
   ],
   "source": [
    "unique_elements, counts_elements = np.unique(clusters, return_counts=True)\n",
    "print(\"Frequency of unique values of the said array:\")\n",
    "print(np.asarray((unique_elements, counts_elements)))"
   ]
  },
  {
   "cell_type": "markdown",
   "metadata": {},
   "source": [
    "### centroid for all cluster"
   ]
  },
  {
   "cell_type": "code",
   "execution_count": 27,
   "metadata": {},
   "outputs": [
    {
     "data": {
      "text/plain": [
       "array([[0.17021277, 0.47111949, 0.17427787, 0.38105865, 0.76189919,\n",
       "        0.69142857, 0.24571429, 0.64571429, 0.75428571],\n",
       "       [0.47340426, 0.76218422, 0.73155318, 0.84051832, 0.61062924,\n",
       "        0.794     , 0.774     , 0.358     , 0.734     ],\n",
       "       [0.49836334, 0.3946622 , 0.6901428 , 0.48402233, 0.26268558,\n",
       "        0.50153846, 0.68615385, 0.69846154, 0.77230769],\n",
       "       [0.53191489, 0.52694979, 0.47550818, 0.24719035, 0.84809677,\n",
       "        0.484     , 0.628     , 0.75      , 0.254     ],\n",
       "       [0.4822695 , 0.22956557, 0.47271965, 0.79301498, 0.91623698,\n",
       "        0.64666667, 0.18333333, 0.35333333, 0.37333333],\n",
       "       [0.37386018, 0.77493626, 0.30879147, 0.85518992, 0.44690794,\n",
       "        0.41285714, 0.55714286, 0.68428571, 0.36857143],\n",
       "       [0.30243161, 0.29695039, 0.40369162, 0.5354222 , 0.33565739,\n",
       "        0.61428571, 0.75142857, 0.29714286, 0.22571429],\n",
       "       [0.24680851, 0.61776542, 0.77185038, 0.31539611, 0.31395479,\n",
       "        0.548     , 0.26      , 0.364     , 0.39      ],\n",
       "       [0.80531915, 0.4658932 , 0.17127205, 0.41795294, 0.4869629 ,\n",
       "        0.662     , 0.5       , 0.302     , 0.678     ],\n",
       "       [0.7287234 , 0.56301648, 0.5520505 , 0.71563736, 0.46346754,\n",
       "        0.94      , 0.13666667, 0.57      , 0.19666667]])"
      ]
     },
     "execution_count": 27,
     "metadata": {},
     "output_type": "execute_result"
    }
   ],
   "source": [
    "kmeans.cluster_centers_"
   ]
  },
  {
   "cell_type": "markdown",
   "metadata": {},
   "source": [
    "### PCA for cluster"
   ]
  },
  {
   "cell_type": "code",
   "execution_count": 28,
   "metadata": {},
   "outputs": [],
   "source": [
    "# reduce data dimension with PCA for visualization\n",
    "reduced = PCA(n_components=2).fit_transform(df_clusters)"
   ]
  },
  {
   "cell_type": "code",
   "execution_count": 29,
   "metadata": {},
   "outputs": [],
   "source": [
    "df_reduced = pd.DataFrame(reduced,columns=['pca1','pca2'])"
   ]
  },
  {
   "cell_type": "code",
   "execution_count": 30,
   "metadata": {},
   "outputs": [
    {
     "data": {
      "image/png": "[encoded data removed]",
      "text/plain": [
       "<Figure size 432x288 with 1 Axes>"
      ]
     },
     "metadata": {
      "needs_background": "light"
     },
     "output_type": "display_data"
    }
   ],
   "source": [
    "sns.scatterplot(x=\"pca1\", y=\"pca2\", hue=df_clusters['clusters'], data=df_reduced)\n",
    "plt.title('K-means Clustering with 2 dimensions')\n",
    "plt.show()"
   ]
  },
  {
   "cell_type": "markdown",
   "metadata": {},
   "source": [
    "### eucledian distance"
   ]
  },
  {
   "cell_type": "code",
   "execution_count": 35,
   "metadata": {},
   "outputs": [],
   "source": [
    "distance = kmeans.fit_transform(df_scaled)"
   ]
  },
  {
   "cell_type": "code",
   "execution_count": 36,
   "metadata": {},
   "outputs": [
    {
     "data": {
      "text/plain": [
       "array([[1.03738294, 1.04317192, 1.12474096, 0.78019338, 0.96954269,\n",
       "        1.28267066, 0.78082545, 1.08178349, 1.09235923, 1.25783495],\n",
       "       [0.86565027, 0.95358629, 1.04919729, 0.38119913, 1.21699767,\n",
       "        1.09623828, 0.98445457, 0.97424911, 0.86157261, 1.22303106],\n",
       "       [0.82793927, 0.98545859, 1.12099385, 1.18894321, 1.04455453,\n",
       "        0.64606581, 0.95633013, 1.17135872, 1.00348876, 1.23689784],\n",
       "       [1.3812667 , 1.22312238, 0.81988729, 1.29894544, 1.02320082,\n",
       "        0.91037576, 1.18284231, 1.40174487, 1.03819006, 1.28996651],\n",
       "       [1.17642237, 0.98397946, 0.92791391, 1.0558575 , 1.10209112,\n",
       "        1.06986262, 0.72438168, 1.54314775, 1.26952999, 1.05828879]])"
      ]
     },
     "execution_count": 36,
     "metadata": {},
     "output_type": "execute_result"
    }
   ],
   "source": [
    "distance[:5]"
   ]
  },
  {
   "cell_type": "markdown",
   "metadata": {},
   "source": [
    "### save model for testing"
   ]
  },
  {
   "cell_type": "code",
   "execution_count": 44,
   "metadata": {},
   "outputs": [
    {
     "data": {
      "text/plain": [
       "['model_cluster.pkl']"
      ]
     },
     "execution_count": 44,
     "metadata": {},
     "output_type": "execute_result"
    }
   ],
   "source": [
    "joblib.dump(kmeans, 'model_cluster.pkl')"
   ]
  },
  {
   "cell_type": "code",
   "execution_count": null,
   "metadata": {},
   "outputs": [],
   "source": []
  },
  {
   "cell_type": "code",
   "execution_count": null,
   "metadata": {},
   "outputs": [],
   "source": []
  }
 ],
 "metadata": {
  "kernelspec": {
   "display_name": "Python 3",
   "language": "python",
   "name": "python3"
  },
  "language_info": {
   "codemirror_mode": {
    "name": "ipython",
    "version": 3
   },
   "file_extension": ".py",
   "mimetype": "text/x-python",
   "name": "python",
   "nbconvert_exporter": "python",
   "pygments_lexer": "ipython3",
   "version": "3.7.3"
  }
 },
 "nbformat": 4,
 "nbformat_minor": 2
}
