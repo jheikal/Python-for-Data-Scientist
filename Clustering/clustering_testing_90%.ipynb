{
 "cells": [
  {
   "cell_type": "markdown",
   "metadata": {},
   "source": [
    "# Clustering Testing Data"
   ]
  },
  {
   "cell_type": "markdown",
   "metadata": {},
   "source": [
    "### read data from csv"
   ]
  },
  {
   "cell_type": "code",
   "execution_count": 1,
   "metadata": {},
   "outputs": [],
   "source": [
    "import pandas as pd\n",
    "import numpy as np\n",
    "import sys\n",
    "np.set_printoptions(threshold=sys.maxsize)\n",
    "from scipy import stats\n",
    "from sklearn.preprocessing import MinMaxScaler\n",
    "from sklearn.cluster import KMeans\n",
    "import matplotlib.pyplot as plt\n",
    "import seaborn as sns\n",
    "from sklearn.decomposition import PCA\n",
    "from sklearn.externals import joblib"
   ]
  },
  {
   "cell_type": "code",
   "execution_count": 2,
   "metadata": {},
   "outputs": [],
   "source": [
    "df = pd.read_csv('persona_clustering.csv', skiprows=100)"
   ]
  },
  {
   "cell_type": "code",
   "execution_count": 3,
   "metadata": {},
   "outputs": [
    {
     "data": {
      "text/plain": [
       "(899, 9)"
      ]
     },
     "execution_count": 3,
     "metadata": {},
     "output_type": "execute_result"
    }
   ],
   "source": [
    "df.shape"
   ]
  },
  {
   "cell_type": "code",
   "execution_count": 4,
   "metadata": {},
   "outputs": [
    {
     "data": {
      "text/html": [
       "<div>\n",
       "<style scoped>\n",
       "    .dataframe tbody tr th:only-of-type {\n",
       "        vertical-align: middle;\n",
       "    }\n",
       "\n",
       "    .dataframe tbody tr th {\n",
       "        vertical-align: top;\n",
       "    }\n",
       "\n",
       "    .dataframe thead th {\n",
       "        text-align: right;\n",
       "    }\n",
       "</style>\n",
       "<table border=\"1\" class=\"dataframe\">\n",
       "  <thead>\n",
       "    <tr style=\"text-align: right;\">\n",
       "      <th></th>\n",
       "      <th>49</th>\n",
       "      <th>885779</th>\n",
       "      <th>396124</th>\n",
       "      <th>78799</th>\n",
       "      <th>433192</th>\n",
       "      <th>4</th>\n",
       "      <th>33</th>\n",
       "      <th>42</th>\n",
       "      <th>34</th>\n",
       "    </tr>\n",
       "  </thead>\n",
       "  <tbody>\n",
       "    <tr>\n",
       "      <th>0</th>\n",
       "      <td>15</td>\n",
       "      <td>481550</td>\n",
       "      <td>192804</td>\n",
       "      <td>372743</td>\n",
       "      <td>455864</td>\n",
       "      <td>14</td>\n",
       "      <td>11</td>\n",
       "      <td>18</td>\n",
       "      <td>15</td>\n",
       "    </tr>\n",
       "    <tr>\n",
       "      <th>1</th>\n",
       "      <td>1</td>\n",
       "      <td>322903</td>\n",
       "      <td>144543</td>\n",
       "      <td>371111</td>\n",
       "      <td>312442</td>\n",
       "      <td>0</td>\n",
       "      <td>41</td>\n",
       "      <td>27</td>\n",
       "      <td>10</td>\n",
       "    </tr>\n",
       "    <tr>\n",
       "      <th>2</th>\n",
       "      <td>28</td>\n",
       "      <td>272502</td>\n",
       "      <td>484961</td>\n",
       "      <td>469271</td>\n",
       "      <td>393664</td>\n",
       "      <td>24</td>\n",
       "      <td>39</td>\n",
       "      <td>47</td>\n",
       "      <td>48</td>\n",
       "    </tr>\n",
       "    <tr>\n",
       "      <th>3</th>\n",
       "      <td>63</td>\n",
       "      <td>35813</td>\n",
       "      <td>177734</td>\n",
       "      <td>11623</td>\n",
       "      <td>498100</td>\n",
       "      <td>47</td>\n",
       "      <td>32</td>\n",
       "      <td>20</td>\n",
       "      <td>24</td>\n",
       "    </tr>\n",
       "    <tr>\n",
       "      <th>4</th>\n",
       "      <td>21</td>\n",
       "      <td>344523</td>\n",
       "      <td>111139</td>\n",
       "      <td>442844</td>\n",
       "      <td>461454</td>\n",
       "      <td>3</td>\n",
       "      <td>23</td>\n",
       "      <td>44</td>\n",
       "      <td>22</td>\n",
       "    </tr>\n",
       "  </tbody>\n",
       "</table>\n",
       "</div>"
      ],
      "text/plain": [
       "   49  885779  396124   78799  433192   4  33  42  34\n",
       "0  15  481550  192804  372743  455864  14  11  18  15\n",
       "1   1  322903  144543  371111  312442   0  41  27  10\n",
       "2  28  272502  484961  469271  393664  24  39  47  48\n",
       "3  63   35813  177734   11623  498100  47  32  20  24\n",
       "4  21  344523  111139  442844  461454   3  23  44  22"
      ]
     },
     "execution_count": 4,
     "metadata": {},
     "output_type": "execute_result"
    }
   ],
   "source": [
    "df.head()"
   ]
  },
  {
   "cell_type": "markdown",
   "metadata": {},
   "source": [
    "### check are there any null value"
   ]
  },
  {
   "cell_type": "code",
   "execution_count": 5,
   "metadata": {},
   "outputs": [
    {
     "name": "stdout",
     "output_type": "stream",
     "text": [
      "49        0\n",
      "885779    0\n",
      "396124    0\n",
      "78799     0\n",
      "433192    0\n",
      "4         0\n",
      "33        0\n",
      "42        0\n",
      "34        0\n",
      "dtype: int64\n"
     ]
    }
   ],
   "source": [
    "print(df.isna().sum())"
   ]
  },
  {
   "cell_type": "markdown",
   "metadata": {},
   "source": [
    "### replace null value with 0"
   ]
  },
  {
   "cell_type": "code",
   "execution_count": 6,
   "metadata": {},
   "outputs": [],
   "source": [
    "df.fillna(0, inplace=True)"
   ]
  },
  {
   "cell_type": "markdown",
   "metadata": {},
   "source": [
    "### identify min max data"
   ]
  },
  {
   "cell_type": "code",
   "execution_count": 7,
   "metadata": {},
   "outputs": [
    {
     "data": {
      "text/html": [
       "<div>\n",
       "<style scoped>\n",
       "    .dataframe tbody tr th:only-of-type {\n",
       "        vertical-align: middle;\n",
       "    }\n",
       "\n",
       "    .dataframe tbody tr th {\n",
       "        vertical-align: top;\n",
       "    }\n",
       "\n",
       "    .dataframe thead th {\n",
       "        text-align: right;\n",
       "    }\n",
       "</style>\n",
       "<table border=\"1\" class=\"dataframe\">\n",
       "  <thead>\n",
       "    <tr style=\"text-align: right;\">\n",
       "      <th></th>\n",
       "      <th>49</th>\n",
       "      <th>885779</th>\n",
       "      <th>396124</th>\n",
       "      <th>78799</th>\n",
       "      <th>433192</th>\n",
       "      <th>4</th>\n",
       "      <th>33</th>\n",
       "      <th>42</th>\n",
       "      <th>34</th>\n",
       "    </tr>\n",
       "  </thead>\n",
       "  <tbody>\n",
       "    <tr>\n",
       "      <th>count</th>\n",
       "      <td>899.000000</td>\n",
       "      <td>899.00000</td>\n",
       "      <td>899.000000</td>\n",
       "      <td>899.000000</td>\n",
       "      <td>899.000000</td>\n",
       "      <td>899.000000</td>\n",
       "      <td>899.000000</td>\n",
       "      <td>899.00000</td>\n",
       "      <td>899.000000</td>\n",
       "    </tr>\n",
       "    <tr>\n",
       "      <th>mean</th>\n",
       "      <td>48.177976</td>\n",
       "      <td>483494.46941</td>\n",
       "      <td>247527.017798</td>\n",
       "      <td>249751.424917</td>\n",
       "      <td>255495.844271</td>\n",
       "      <td>25.330367</td>\n",
       "      <td>25.064516</td>\n",
       "      <td>25.85762</td>\n",
       "      <td>25.026696</td>\n",
       "    </tr>\n",
       "    <tr>\n",
       "      <th>std</th>\n",
       "      <td>28.258856</td>\n",
       "      <td>288617.08727</td>\n",
       "      <td>142269.493565</td>\n",
       "      <td>148528.527991</td>\n",
       "      <td>146071.771472</td>\n",
       "      <td>14.770813</td>\n",
       "      <td>14.610239</td>\n",
       "      <td>14.73197</td>\n",
       "      <td>14.786354</td>\n",
       "    </tr>\n",
       "    <tr>\n",
       "      <th>min</th>\n",
       "      <td>1.000000</td>\n",
       "      <td>54.00000</td>\n",
       "      <td>1300.000000</td>\n",
       "      <td>713.000000</td>\n",
       "      <td>2114.000000</td>\n",
       "      <td>0.000000</td>\n",
       "      <td>0.000000</td>\n",
       "      <td>0.00000</td>\n",
       "      <td>0.000000</td>\n",
       "    </tr>\n",
       "    <tr>\n",
       "      <th>25%</th>\n",
       "      <td>23.000000</td>\n",
       "      <td>226578.00000</td>\n",
       "      <td>126838.500000</td>\n",
       "      <td>115104.000000</td>\n",
       "      <td>126419.500000</td>\n",
       "      <td>12.000000</td>\n",
       "      <td>13.000000</td>\n",
       "      <td>13.00000</td>\n",
       "      <td>12.000000</td>\n",
       "    </tr>\n",
       "    <tr>\n",
       "      <th>50%</th>\n",
       "      <td>47.000000</td>\n",
       "      <td>491487.00000</td>\n",
       "      <td>244220.000000</td>\n",
       "      <td>251357.000000</td>\n",
       "      <td>254235.000000</td>\n",
       "      <td>25.000000</td>\n",
       "      <td>25.000000</td>\n",
       "      <td>27.00000</td>\n",
       "      <td>24.000000</td>\n",
       "    </tr>\n",
       "    <tr>\n",
       "      <th>75%</th>\n",
       "      <td>71.000000</td>\n",
       "      <td>733718.00000</td>\n",
       "      <td>365692.500000</td>\n",
       "      <td>382152.500000</td>\n",
       "      <td>383652.500000</td>\n",
       "      <td>38.000000</td>\n",
       "      <td>37.000000</td>\n",
       "      <td>37.50000</td>\n",
       "      <td>38.000000</td>\n",
       "    </tr>\n",
       "    <tr>\n",
       "      <th>max</th>\n",
       "      <td>100.000000</td>\n",
       "      <td>999537.00000</td>\n",
       "      <td>499514.000000</td>\n",
       "      <td>499553.000000</td>\n",
       "      <td>499362.000000</td>\n",
       "      <td>50.000000</td>\n",
       "      <td>50.000000</td>\n",
       "      <td>50.00000</td>\n",
       "      <td>50.000000</td>\n",
       "    </tr>\n",
       "  </tbody>\n",
       "</table>\n",
       "</div>"
      ],
      "text/plain": [
       "               49        885779         396124          78799         433192  \\\n",
       "count  899.000000     899.00000     899.000000     899.000000     899.000000   \n",
       "mean    48.177976  483494.46941  247527.017798  249751.424917  255495.844271   \n",
       "std     28.258856  288617.08727  142269.493565  148528.527991  146071.771472   \n",
       "min      1.000000      54.00000    1300.000000     713.000000    2114.000000   \n",
       "25%     23.000000  226578.00000  126838.500000  115104.000000  126419.500000   \n",
       "50%     47.000000  491487.00000  244220.000000  251357.000000  254235.000000   \n",
       "75%     71.000000  733718.00000  365692.500000  382152.500000  383652.500000   \n",
       "max    100.000000  999537.00000  499514.000000  499553.000000  499362.000000   \n",
       "\n",
       "                4          33         42          34  \n",
       "count  899.000000  899.000000  899.00000  899.000000  \n",
       "mean    25.330367   25.064516   25.85762   25.026696  \n",
       "std     14.770813   14.610239   14.73197   14.786354  \n",
       "min      0.000000    0.000000    0.00000    0.000000  \n",
       "25%     12.000000   13.000000   13.00000   12.000000  \n",
       "50%     25.000000   25.000000   27.00000   24.000000  \n",
       "75%     38.000000   37.000000   37.50000   38.000000  \n",
       "max     50.000000   50.000000   50.00000   50.000000  "
      ]
     },
     "execution_count": 7,
     "metadata": {},
     "output_type": "execute_result"
    }
   ],
   "source": [
    "df.describe()"
   ]
  },
  {
   "cell_type": "markdown",
   "metadata": {},
   "source": [
    "### remove outlier using z-score"
   ]
  },
  {
   "cell_type": "code",
   "execution_count": 8,
   "metadata": {},
   "outputs": [],
   "source": [
    "z = np.abs(stats.zscore(df))"
   ]
  },
  {
   "cell_type": "code",
   "execution_count": 9,
   "metadata": {},
   "outputs": [
    {
     "data": {
      "text/plain": [
       "array([[1.17472709, 0.00674094, 0.38485748, 0.82852795, 1.37247386,\n",
       "        0.76750506, 0.96318376, 0.53366886, 0.67848218],\n",
       "       [1.67042277, 0.55672678, 0.72426871, 0.81753405, 0.39006752,\n",
       "        1.71584775, 1.09131371, 0.07758747, 1.01682004],\n",
       "       [0.71443824, 0.73145328, 1.66983196, 1.47878506, 0.94641876,\n",
       "        0.09011742, 0.95434721, 1.43593488, 1.55454765],\n",
       "       [0.52480097, 1.55198942, 0.49084217, 1.60414285, 1.66178034,\n",
       "        1.46787415, 0.47496447, 0.39783412, 0.06947405],\n",
       "       [0.96228608, 0.48177614, 0.95919324, 1.3007606 , 1.41076402,\n",
       "        1.51263146, 0.14138477, 1.23218277, 0.20480919]])"
      ]
     },
     "execution_count": 9,
     "metadata": {},
     "output_type": "execute_result"
    }
   ],
   "source": [
    "z[:5]"
   ]
  },
  {
   "cell_type": "code",
   "execution_count": 10,
   "metadata": {},
   "outputs": [],
   "source": [
    "z_upper_3 = np.where(z>3)"
   ]
  },
  {
   "cell_type": "code",
   "execution_count": 11,
   "metadata": {},
   "outputs": [],
   "source": [
    "row_drop = z_upper_3[0]"
   ]
  },
  {
   "cell_type": "code",
   "execution_count": 12,
   "metadata": {},
   "outputs": [
    {
     "data": {
      "text/plain": [
       "0"
      ]
     },
     "execution_count": 12,
     "metadata": {},
     "output_type": "execute_result"
    }
   ],
   "source": [
    "len(row_drop)"
   ]
  },
  {
   "cell_type": "code",
   "execution_count": 13,
   "metadata": {},
   "outputs": [
    {
     "data": {
      "text/plain": [
       "0"
      ]
     },
     "execution_count": 13,
     "metadata": {},
     "output_type": "execute_result"
    }
   ],
   "source": [
    "len(set(row_drop))"
   ]
  },
  {
   "cell_type": "code",
   "execution_count": 14,
   "metadata": {},
   "outputs": [],
   "source": [
    "df_no_outlier = df.drop(row_drop)"
   ]
  },
  {
   "cell_type": "code",
   "execution_count": 15,
   "metadata": {},
   "outputs": [
    {
     "data": {
      "text/plain": [
       "(899, 9)"
      ]
     },
     "execution_count": 15,
     "metadata": {},
     "output_type": "execute_result"
    }
   ],
   "source": [
    "df_no_outlier.shape"
   ]
  },
  {
   "cell_type": "code",
   "execution_count": 16,
   "metadata": {},
   "outputs": [
    {
     "data": {
      "text/html": [
       "<div>\n",
       "<style scoped>\n",
       "    .dataframe tbody tr th:only-of-type {\n",
       "        vertical-align: middle;\n",
       "    }\n",
       "\n",
       "    .dataframe tbody tr th {\n",
       "        vertical-align: top;\n",
       "    }\n",
       "\n",
       "    .dataframe thead th {\n",
       "        text-align: right;\n",
       "    }\n",
       "</style>\n",
       "<table border=\"1\" class=\"dataframe\">\n",
       "  <thead>\n",
       "    <tr style=\"text-align: right;\">\n",
       "      <th></th>\n",
       "      <th>49</th>\n",
       "      <th>885779</th>\n",
       "      <th>396124</th>\n",
       "      <th>78799</th>\n",
       "      <th>433192</th>\n",
       "      <th>4</th>\n",
       "      <th>33</th>\n",
       "      <th>42</th>\n",
       "      <th>34</th>\n",
       "    </tr>\n",
       "  </thead>\n",
       "  <tbody>\n",
       "    <tr>\n",
       "      <th>0</th>\n",
       "      <td>15</td>\n",
       "      <td>481550</td>\n",
       "      <td>192804</td>\n",
       "      <td>372743</td>\n",
       "      <td>455864</td>\n",
       "      <td>14</td>\n",
       "      <td>11</td>\n",
       "      <td>18</td>\n",
       "      <td>15</td>\n",
       "    </tr>\n",
       "    <tr>\n",
       "      <th>1</th>\n",
       "      <td>1</td>\n",
       "      <td>322903</td>\n",
       "      <td>144543</td>\n",
       "      <td>371111</td>\n",
       "      <td>312442</td>\n",
       "      <td>0</td>\n",
       "      <td>41</td>\n",
       "      <td>27</td>\n",
       "      <td>10</td>\n",
       "    </tr>\n",
       "    <tr>\n",
       "      <th>2</th>\n",
       "      <td>28</td>\n",
       "      <td>272502</td>\n",
       "      <td>484961</td>\n",
       "      <td>469271</td>\n",
       "      <td>393664</td>\n",
       "      <td>24</td>\n",
       "      <td>39</td>\n",
       "      <td>47</td>\n",
       "      <td>48</td>\n",
       "    </tr>\n",
       "    <tr>\n",
       "      <th>3</th>\n",
       "      <td>63</td>\n",
       "      <td>35813</td>\n",
       "      <td>177734</td>\n",
       "      <td>11623</td>\n",
       "      <td>498100</td>\n",
       "      <td>47</td>\n",
       "      <td>32</td>\n",
       "      <td>20</td>\n",
       "      <td>24</td>\n",
       "    </tr>\n",
       "    <tr>\n",
       "      <th>4</th>\n",
       "      <td>21</td>\n",
       "      <td>344523</td>\n",
       "      <td>111139</td>\n",
       "      <td>442844</td>\n",
       "      <td>461454</td>\n",
       "      <td>3</td>\n",
       "      <td>23</td>\n",
       "      <td>44</td>\n",
       "      <td>22</td>\n",
       "    </tr>\n",
       "  </tbody>\n",
       "</table>\n",
       "</div>"
      ],
      "text/plain": [
       "   49  885779  396124   78799  433192   4  33  42  34\n",
       "0  15  481550  192804  372743  455864  14  11  18  15\n",
       "1   1  322903  144543  371111  312442   0  41  27  10\n",
       "2  28  272502  484961  469271  393664  24  39  47  48\n",
       "3  63   35813  177734   11623  498100  47  32  20  24\n",
       "4  21  344523  111139  442844  461454   3  23  44  22"
      ]
     },
     "execution_count": 16,
     "metadata": {},
     "output_type": "execute_result"
    }
   ],
   "source": [
    "df_no_outlier.head()"
   ]
  },
  {
   "cell_type": "markdown",
   "metadata": {},
   "source": [
    "### Normalize the data (0-1)"
   ]
  },
  {
   "cell_type": "code",
   "execution_count": 17,
   "metadata": {},
   "outputs": [
    {
     "name": "stderr",
     "output_type": "stream",
     "text": [
      "/anaconda3/lib/python3.7/site-packages/sklearn/preprocessing/data.py:334: DataConversionWarning: Data with input dtype int64 were all converted to float64 by MinMaxScaler.\n",
      "  return self.partial_fit(X, y)\n"
     ]
    }
   ],
   "source": [
    "df_scaled = MinMaxScaler().fit_transform(df_no_outlier)"
   ]
  },
  {
   "cell_type": "code",
   "execution_count": 18,
   "metadata": {},
   "outputs": [
    {
     "data": {
      "text/plain": [
       "array([[0.14141414, 0.48174506, 0.38438101, 0.74579023, 0.91252252,\n",
       "        0.28      , 0.22      , 0.36      , 0.3       ],\n",
       "       [0.        , 0.323016  , 0.287513  , 0.74251864, 0.624091  ,\n",
       "        0.        , 0.82      , 0.54      , 0.2       ],\n",
       "       [0.27272727, 0.27258893, 0.97078966, 0.93929516, 0.78743404,\n",
       "        0.48      , 0.78      , 0.94      , 0.96      ],\n",
       "       [0.62626263, 0.0357775 , 0.35413296, 0.02187074, 0.99746203,\n",
       "        0.94      , 0.64      , 0.4       , 0.48      ],\n",
       "       [0.2020202 , 0.34464718, 0.2204655 , 0.88631826, 0.9237644 ,\n",
       "        0.06      , 0.46      , 0.88      , 0.44      ]])"
      ]
     },
     "execution_count": 18,
     "metadata": {},
     "output_type": "execute_result"
    }
   ],
   "source": [
    "df_scaled[:5]"
   ]
  },
  {
   "cell_type": "markdown",
   "metadata": {},
   "source": [
    "### testing using kmeans model"
   ]
  },
  {
   "cell_type": "markdown",
   "metadata": {},
   "source": [
    "#### load model"
   ]
  },
  {
   "cell_type": "code",
   "execution_count": 19,
   "metadata": {},
   "outputs": [],
   "source": [
    "kmeans = joblib.load('model_cluster.pkl')"
   ]
  },
  {
   "cell_type": "code",
   "execution_count": 23,
   "metadata": {},
   "outputs": [],
   "source": [
    "predict_clusters = kmeans.predict(df_scaled)"
   ]
  },
  {
   "cell_type": "code",
   "execution_count": 24,
   "metadata": {},
   "outputs": [
    {
     "data": {
      "text/plain": [
       "array([0, 6, 3, 0, 6, 1, 8, 0, 2, 6, 2, 5, 4, 1, 8, 6, 9, 1, 9, 0, 3, 9,\n",
       "       1, 6, 5, 6, 1, 3, 5, 4, 2, 0, 2, 4, 2, 1, 5, 6, 3, 3, 5, 6, 8, 8,\n",
       "       9, 5, 9, 7, 3, 4, 4, 6, 0, 5, 4, 1, 0, 6, 7, 4, 6, 2, 5, 6, 4, 1,\n",
       "       7, 4, 5, 0, 3, 5, 1, 1, 5, 5, 3, 0, 7, 3, 9, 6, 9, 0, 3, 4, 8, 5,\n",
       "       3, 2, 9, 7, 5, 5, 4, 5, 5, 0, 2, 5, 9, 0, 5, 3, 1, 0, 5, 6, 6, 5,\n",
       "       2, 3, 8, 5, 4, 1, 4, 4, 4, 5, 1, 2, 1, 7, 5, 2, 2, 3, 6, 8, 6, 8,\n",
       "       7, 6, 6, 9, 9, 3, 6, 9, 2, 4, 3, 3, 8, 6, 9, 7, 3, 3, 3, 5, 5, 7,\n",
       "       2, 3, 5, 5, 9, 0, 8, 3, 1, 3, 3, 2, 2, 5, 4, 8, 5, 3, 3, 0, 9, 3,\n",
       "       5, 6, 3, 0, 6, 5, 5, 3, 9, 6, 3, 2, 4, 1, 4, 8, 5, 0, 6, 4, 6, 5,\n",
       "       5, 2, 3, 1, 5, 2, 3, 2, 4, 9, 4, 8, 2, 1, 2, 9, 4, 5, 4, 2, 3, 8,\n",
       "       9, 6, 6, 6, 5, 3, 5, 5, 4, 1, 5, 7, 2, 6, 5, 2, 2, 0, 5, 5, 8, 6,\n",
       "       0, 5, 0, 9, 8, 6, 0, 3, 2, 3, 5, 3, 5, 3, 5, 2, 0, 8, 5, 2, 0, 9,\n",
       "       4, 4, 9, 1, 1, 4, 2, 5, 8, 2, 3, 0, 2, 5, 4, 5, 5, 7, 4, 5, 5, 1,\n",
       "       3, 0, 0, 7, 6, 0, 1, 5, 5, 9, 5, 0, 5, 7, 8, 1, 1, 5, 4, 6, 6, 9,\n",
       "       3, 5, 2, 5, 4, 0, 3, 5, 3, 6, 7, 3, 5, 4, 9, 2, 0, 6, 2, 3, 1, 8,\n",
       "       4, 6, 1, 3, 5, 0, 5, 5, 3, 8, 8, 0, 9, 3, 0, 0, 5, 1, 3, 5, 7, 9,\n",
       "       9, 2, 7, 1, 3, 9, 5, 9, 0, 1, 5, 1, 3, 4, 4, 8, 8, 5, 3, 3, 3, 9,\n",
       "       1, 4, 0, 3, 8, 2, 4, 4, 3, 1, 1, 2, 3, 7, 9, 6, 3, 2, 5, 3, 3, 2,\n",
       "       5, 4, 2, 5, 4, 2, 6, 5, 6, 9, 1, 6, 9, 2, 1, 6, 1, 1, 2, 4, 2, 5,\n",
       "       0, 8, 0, 6, 3, 5, 1, 3, 1, 2, 8, 7, 7, 0, 6, 1, 4, 2, 4, 5, 6, 6,\n",
       "       1, 9, 6, 6, 4, 1, 5, 5, 9, 3, 3, 0, 6, 3, 3, 1, 1, 4, 8, 6, 1, 8,\n",
       "       6, 0, 1, 2, 0, 1, 9, 9, 9, 3, 0, 9, 5, 6, 6, 3, 8, 0, 5, 4, 2, 2,\n",
       "       3, 5, 5, 2, 5, 5, 1, 8, 4, 7, 3, 3, 1, 9, 4, 7, 2, 6, 8, 4, 4, 7,\n",
       "       2, 6, 1, 3, 0, 4, 2, 0, 5, 5, 9, 1, 3, 2, 5, 2, 1, 2, 8, 2, 0, 5,\n",
       "       7, 2, 1, 2, 3, 7, 5, 5, 8, 5, 2, 0, 0, 3, 8, 9, 3, 9, 3, 6, 5, 3,\n",
       "       3, 0, 3, 6, 8, 2, 1, 2, 0, 1, 4, 0, 3, 0, 6, 0, 9, 6, 1, 0, 4, 5,\n",
       "       4, 1, 3, 1, 2, 3, 3, 5, 3, 9, 1, 3, 8, 2, 3, 5, 7, 9, 5, 1, 5, 9,\n",
       "       6, 6, 0, 9, 9, 6, 7, 9, 3, 9, 5, 0, 5, 3, 5, 3, 5, 3, 8, 8, 9, 9,\n",
       "       8, 8, 5, 2, 5, 3, 5, 9, 1, 7, 4, 5, 4, 5, 0, 4, 4, 9, 9, 5, 3, 3,\n",
       "       5, 5, 5, 7, 3, 0, 0, 9, 8, 7, 8, 2, 9, 5, 7, 6, 8, 3, 9, 3, 2, 5,\n",
       "       6, 3, 3, 5, 6, 7, 4, 4, 3, 2, 5, 1, 0, 4, 9, 0, 0, 2, 6, 6, 2, 3,\n",
       "       3, 5, 9, 8, 7, 0, 1, 4, 3, 1, 2, 2, 4, 1, 9, 2, 4, 3, 0, 3, 5, 1,\n",
       "       6, 8, 6, 7, 5, 3, 8, 3, 9, 1, 4, 2, 7, 2, 5, 1, 2, 7, 5, 2, 0, 5,\n",
       "       5, 1, 4, 5, 0, 2, 0, 8, 3, 1, 1, 7, 1, 5, 5, 6, 2, 8, 2, 4, 2, 4,\n",
       "       0, 1, 5, 9, 5, 8, 9, 1, 3, 1, 2, 5, 6, 3, 2, 9, 3, 4, 0, 9, 1, 6,\n",
       "       8, 4, 1, 0, 3, 8, 7, 5, 6, 1, 1, 3, 5, 8, 3, 5, 0, 5, 0, 6, 9, 1,\n",
       "       5, 2, 5, 6, 5, 5, 2, 7, 9, 9, 5, 8, 2, 1, 9, 3, 0, 8, 3, 2, 0, 9,\n",
       "       4, 6, 0, 8, 4, 7, 2, 6, 3, 2, 1, 4, 1, 7, 7, 2, 2, 4, 4, 9, 9, 5,\n",
       "       4, 1, 4, 6, 0, 5, 2, 8, 8, 5, 3, 3, 3, 3, 6, 1, 5, 1, 5, 6, 6, 3,\n",
       "       2, 1, 9, 6, 9, 2, 1, 7, 2, 0, 4, 9, 0, 3, 1, 4, 3, 9, 3, 1, 4, 3,\n",
       "       2, 6, 8, 9, 3, 5, 4, 3, 6, 9, 2, 2, 5, 9, 3, 5, 2, 3, 2],\n",
       "      dtype=int32)"
      ]
     },
     "execution_count": 24,
     "metadata": {},
     "output_type": "execute_result"
    }
   ],
   "source": [
    "predict_clusters"
   ]
  },
  {
   "cell_type": "code",
   "execution_count": 25,
   "metadata": {},
   "outputs": [
    {
     "name": "stdout",
     "output_type": "stream",
     "text": [
      "Frequency of unique values of the said array:\n",
      "[[  0   1   2   3   4   5   6   7   8   9]\n",
      " [ 79  91 101 130  82 148  85  42  59  82]]\n"
     ]
    }
   ],
   "source": [
    "unique_elements, counts_elements = np.unique(predict_clusters, return_counts=True)\n",
    "print(\"Frequency of unique values of the said array:\")\n",
    "print(np.asarray((unique_elements, counts_elements)))"
   ]
  },
  {
   "cell_type": "code",
   "execution_count": null,
   "metadata": {},
   "outputs": [],
   "source": []
  }
 ],
 "metadata": {
  "kernelspec": {
   "display_name": "Python 3",
   "language": "python",
   "name": "python3"
  },
  "language_info": {
   "codemirror_mode": {
    "name": "ipython",
    "version": 3
   },
   "file_extension": ".py",
   "mimetype": "text/x-python",
   "name": "python",
   "nbconvert_exporter": "python",
   "pygments_lexer": "ipython3",
   "version": "3.7.3"
  }
 },
 "nbformat": 4,
 "nbformat_minor": 2
}
